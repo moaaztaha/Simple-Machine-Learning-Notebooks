{
 "cells": [
  {
   "cell_type": "code",
   "execution_count": 1,
   "metadata": {},
   "outputs": [],
   "source": [
    "import torch, torchvision\n",
    "from torch import nn, optim\n",
    "from torch.utils.data import Dataset, DataLoader\n",
    "from torchvision import transforms\n",
    "import torch.nn.functional as F\n",
    "import time"
   ]
  },
  {
   "cell_type": "code",
   "execution_count": 2,
   "metadata": {},
   "outputs": [
    {
     "name": "stdout",
     "output_type": "stream",
     "text": [
      "Training using cuda\n"
     ]
    }
   ],
   "source": [
    "# Training settings\n",
    "bs = 64\n",
    "lr = 0.001\n",
    "num_epoch = 5\n",
    "num_classes = 10\n",
    "device = 'cuda' if torch.cuda.is_available() else 'cpu'\n",
    "print('Training using ' + device)"
   ]
  },
  {
   "cell_type": "code",
   "execution_count": 4,
   "metadata": {},
   "outputs": [
    {
     "name": "stderr",
     "output_type": "stream",
     "text": [
      "\r",
      "0it [00:00, ?it/s]"
     ]
    },
    {
     "name": "stdout",
     "output_type": "stream",
     "text": [
      "Downloading http://yann.lecun.com/exdb/mnist/train-images-idx3-ubyte.gz to ./data/mnist/MNIST/raw/train-images-idx3-ubyte.gz\n"
     ]
    },
    {
     "name": "stderr",
     "output_type": "stream",
     "text": [
      " 79%|███████▉  | 7864320/9912422 [00:16<00:12, 159372.95it/s] "
     ]
    },
    {
     "name": "stdout",
     "output_type": "stream",
     "text": [
      "Extracting ./data/mnist/MNIST/raw/train-images-idx3-ubyte.gz to ./data/mnist/MNIST/raw\n"
     ]
    },
    {
     "name": "stderr",
     "output_type": "stream",
     "text": [
      "\n",
      "0it [00:00, ?it/s]\u001b[A"
     ]
    },
    {
     "name": "stdout",
     "output_type": "stream",
     "text": [
      "Downloading http://yann.lecun.com/exdb/mnist/train-labels-idx1-ubyte.gz to ./data/mnist/MNIST/raw/train-labels-idx1-ubyte.gz\n"
     ]
    },
    {
     "name": "stderr",
     "output_type": "stream",
     "text": [
      "\n",
      "  0%|          | 0/28881 [00:00<?, ?it/s]\u001b[A\n",
      "32768it [00:00, 51307.18it/s]                           \u001b[A\n",
      "\n",
      "0it [00:00, ?it/s]\u001b[A"
     ]
    },
    {
     "name": "stdout",
     "output_type": "stream",
     "text": [
      "Extracting ./data/mnist/MNIST/raw/train-labels-idx1-ubyte.gz to ./data/mnist/MNIST/raw\n",
      "Downloading http://yann.lecun.com/exdb/mnist/t10k-images-idx3-ubyte.gz to ./data/mnist/MNIST/raw/t10k-images-idx3-ubyte.gz\n"
     ]
    },
    {
     "name": "stderr",
     "output_type": "stream",
     "text": [
      "\n",
      "  0%|          | 0/1648877 [00:00<?, ?it/s]\u001b[A\n",
      "  1%|          | 16384/1648877 [00:00<00:20, 80331.10it/s]\u001b[A\n",
      "  2%|▏         | 40960/1648877 [00:00<00:17, 93476.54it/s]\u001b[A\n",
      "  6%|▌         | 98304/1648877 [00:01<00:13, 113777.87it/s]\u001b[A\n",
      " 11%|█         | 180224/1648877 [00:01<00:11, 130765.88it/s]\u001b[A\n",
      " 18%|█▊        | 294912/1648877 [00:01<00:07, 169824.21it/s]\u001b[A\n",
      " 25%|██▍       | 409600/1648877 [00:01<00:05, 214689.01it/s]\u001b[A\n",
      " 30%|██▉       | 491520/1648877 [00:02<00:05, 213173.98it/s]\u001b[A\n",
      " 36%|███▋      | 598016/1648877 [00:02<00:04, 255506.31it/s]\u001b[A\n",
      " 43%|████▎     | 704512/1648877 [00:02<00:03, 312864.49it/s]\u001b[A\n",
      " 48%|████▊     | 786432/1648877 [00:02<00:02, 315525.35it/s]\u001b[A\n",
      " 53%|█████▎    | 868352/1648877 [00:03<00:02, 339811.84it/s]\u001b[A\n",
      " 58%|█████▊    | 958464/1648877 [00:03<00:01, 364761.55it/s]\u001b[A\n",
      " 63%|██████▎   | 1040384/1648877 [00:03<00:01, 374613.28it/s]\u001b[A\n",
      " 69%|██████▊   | 1130496/1648877 [00:03<00:01, 309356.34it/s]\u001b[A\n",
      " 78%|███████▊  | 1277952/1648877 [00:04<00:00, 373323.51it/s]\u001b[A\n",
      " 81%|████████▏ | 1343488/1648877 [00:04<00:00, 355374.52it/s]\u001b[A\n",
      " 86%|████████▌ | 1417216/1648877 [00:04<00:00, 373737.46it/s]\u001b[A\n",
      " 90%|████████▉ | 1482752/1648877 [00:04<00:00, 363335.27it/s]\u001b[A\n",
      " 94%|█████████▍| 1556480/1648877 [00:04<00:00, 340347.38it/s]\u001b[A\n",
      " 99%|█████████▉| 1630208/1648877 [00:05<00:00, 345895.97it/s]\u001b[A\n",
      "\n",
      "0it [00:00, ?it/s]\u001b[A\u001b[A"
     ]
    },
    {
     "name": "stdout",
     "output_type": "stream",
     "text": [
      "Extracting ./data/mnist/MNIST/raw/t10k-images-idx3-ubyte.gz to ./data/mnist/MNIST/raw\n",
      "Downloading http://yann.lecun.com/exdb/mnist/t10k-labels-idx1-ubyte.gz to ./data/mnist/MNIST/raw/t10k-labels-idx1-ubyte.gz\n"
     ]
    },
    {
     "name": "stderr",
     "output_type": "stream",
     "text": [
      "\n",
      "\n",
      "8192it [00:00, 20501.27it/s]            \u001b[A\u001b[A\n"
     ]
    },
    {
     "name": "stdout",
     "output_type": "stream",
     "text": [
      "Extracting ./data/mnist/MNIST/raw/t10k-labels-idx1-ubyte.gz to ./data/mnist/MNIST/raw\n",
      "Processing...\n",
      "Done!\n"
     ]
    },
    {
     "name": "stderr",
     "output_type": "stream",
     "text": [
      "9920512it [00:30, 159372.95it/s]                             \n",
      "1654784it [00:22, 345895.97it/s]                             \u001b[A"
     ]
    }
   ],
   "source": [
    "# Load MNIST dataset\n",
    "mnist_transforms = transforms.Compose([\n",
    "    transforms.ToTensor(),\n",
    "    transforms.Normalize((0.1307,), (0.3081,))\n",
    "])\n",
    "\n",
    "train_dataset = torchvision.datasets.MNIST(root='./data/mnist/', train=True,\n",
    "                                          download=True,\n",
    "                                          transform=mnist_transforms)\n",
    "\n",
    "test_dataset = torchvision.datasets.MNIST(root='./data/mnist', train=False,\n",
    "                                         download=True,\n",
    "                                         transform=mnist_transforms)\n",
    "\n",
    "train_loader = DataLoader(train_dataset, batch_size=bs, shuffle=True)\n",
    "test_loader = DataLoader(test_dataset, batch_size=bs)"
   ]
  },
  {
   "cell_type": "code",
   "execution_count": 47,
   "metadata": {},
   "outputs": [],
   "source": [
    "# Training loop\n",
    "def train(model, criterion, optimizer, num_epochs=10):\n",
    "    model.train()\n",
    "    for epoch in range(num_epochs):\n",
    "        for idx, (images, labels) in enumerate(train_loader):\n",
    "            images, labels = images.to(device), labels.to(device)\n",
    "\n",
    "            # Forward pass\n",
    "            outputs = model(images)\n",
    "            loss = criterion(outputs, labels)\n",
    "\n",
    "            # Backward and Update weights\n",
    "            optimizer.zero_grad()\n",
    "            loss.backward()\n",
    "            optimizer.step()\n",
    "\n",
    "            # Print the loss\n",
    "            if (idx) % bs-1 == 0:\n",
    "                print(f'Epoch [{epoch+1}/{num_epochs}] | Batch [{idx*len(images)}/{len(train_loader.dataset)}] | Loss: {loss.item():.4f}')"
   ]
  },
  {
   "cell_type": "code",
   "execution_count": 37,
   "metadata": {},
   "outputs": [],
   "source": [
    "def test(model, criterion):\n",
    "    model.eval()\n",
    "    with torch.no_grad():\n",
    "        correct = 0\n",
    "        test_loss = 0\n",
    "        \n",
    "        for images, labels in test_loader:\n",
    "            images, labels = images.to(device), labels.to(device)\n",
    "            out = model(images)\n",
    "            # total loss\n",
    "            test_loss += criterion(out, labels)\n",
    "            # get the index of the max value, calculate how many accurate predictions\n",
    "            pred = out.data.max(1, keepdim=True)[1]\n",
    "            correct += pred.eq(labels.data.view_as(pred)).cpu().sum()\n",
    "            \n",
    "        # Average loss for the whole test 10000 images    \n",
    "        test_loss /= len(test_loader.dataset)\n",
    "        print(\"==========================\")\n",
    "        print(f\"Test set: Average Loss: {test_loss:.4f}, Accuracy: {correct}/{len(test_loader.dataset)}, {100*correct/len(test_loader.dataset):.0f}%\")"
   ]
  },
  {
   "cell_type": "code",
   "execution_count": 38,
   "metadata": {},
   "outputs": [],
   "source": [
    "# Run() aka main\n",
    "def run(model, criterion, optimizer):\n",
    "    # Training\n",
    "    train_time = time.time()\n",
    "    train(model, criterion, optimizer, num_epoch)\n",
    "    m, s = divmod(time.time() - train_time, 60)\n",
    "    print(f'Training Time: {m:.0f}m {s:.0f}s')\n",
    "    # Testing\n",
    "    test_time = time.time()\n",
    "    test(model, criterion)\n",
    "    m, s = divmod(time.time() - test_time, 60)\n",
    "    print(f'Testing Time: {m:.0f}m {s:.0f}s')\n",
    "    # Total\n",
    "    m, s = divmod(time.time() - train_time, 60)\n",
    "    print(f'Total Time: {m:.0f}m {s:.0f}s\\nTrained on {device}')"
   ]
  },
  {
   "cell_type": "markdown",
   "metadata": {},
   "source": [
    "### Simple CNN model "
   ]
  },
  {
   "cell_type": "code",
   "execution_count": 8,
   "metadata": {},
   "outputs": [],
   "source": [
    "# Build the model\n",
    "class SimpleCNN(nn.Module):\n",
    "    def __init__(self, num_classes=10):\n",
    "        super(SimpleCNN, self).__init__()\n",
    "        self.layer1 = nn.Sequential(\n",
    "            nn.Conv2d(1, 16, kernel_size=5, stride=1, padding=2),\n",
    "            nn.BatchNorm2d(16),\n",
    "            nn.ReLU(),\n",
    "            nn.MaxPool2d(kernel_size=2, stride=2))\n",
    "        self.layer2 = nn.Sequential(\n",
    "            nn.Conv2d(16, 32, kernel_size=5, stride=1, padding=2),\n",
    "            nn.BatchNorm2d(32),\n",
    "            nn.ReLU(),\n",
    "            nn.MaxPool2d(kernel_size=2, stride=2)\n",
    "        )\n",
    "        \n",
    "        self.fc = nn.Linear(7*7*32, num_classes)\n",
    "        \n",
    "        \n",
    "    def forward(self, x):\n",
    "    \n",
    "        x = self.layer1(x)\n",
    "        x = self.layer2(x)\n",
    "        x = x.view(x.size(0), -1)\n",
    "        x = self.fc(x)\n",
    "        return x"
   ]
  },
  {
   "cell_type": "markdown",
   "metadata": {},
   "source": [
    "### Simple Inception model"
   ]
  },
  {
   "cell_type": "code",
   "execution_count": 44,
   "metadata": {},
   "outputs": [],
   "source": [
    "class InceptionA(nn.Module):\n",
    "    def __init__(self, in_channels):\n",
    "        super(InceptionA, self).__init__()\n",
    "        self.branch1x1 = nn.Conv2d(in_channels, 16, kernel_size=1)\n",
    "        \n",
    "        self.branch5x5_1 = nn.Conv2d(in_channels, 16, kernel_size=1)\n",
    "        self.branch5x5_2 = nn.Conv2d(16, 24, kernel_size=5, padding=2)\n",
    "        \n",
    "        self.branch3x3_1 = nn.Conv2d(in_channels, 16, kernel_size=1)\n",
    "        self.branch3x3_2 = nn.Conv2d(16, 24, kernel_size=3, padding=1)\n",
    "        self.branch3x3_3 = nn.Conv2d(24, 24, kernel_size=3, padding=1)\n",
    "        \n",
    "        self.branch_pool = nn.Conv2d(in_channels, 24, kernel_size=1)\n",
    "        \n",
    "    def forward(self, x):\n",
    "        branch1x1 = self.branch1x1(x)\n",
    "        \n",
    "        branch5x5 = self.branch5x5_1(x)\n",
    "        branch5x5 = self.branch5x5_2(branch5x5)\n",
    "        \n",
    "        branch3x3 = self.branch3x3_1(x)\n",
    "        branch3x3 = self.branch3x3_2(branch3x3)\n",
    "        branch3x3 = self.branch3x3_3(branch3x3)\n",
    "        \n",
    "        branch_pool = F.avg_pool2d(x, kernel_size=3, stride=1, padding=1)\n",
    "        branch_pool = self.branch_pool(branch_pool)\n",
    "        \n",
    "        return torch.cat([branch1x1, branch5x5, branch3x3, branch_pool], dim=1) "
   ]
  },
  {
   "cell_type": "code",
   "execution_count": 45,
   "metadata": {},
   "outputs": [],
   "source": [
    "class SimpleInception(nn.Module):\n",
    "    def __init__(self):\n",
    "        super(SimpleInception, self).__init__()\n",
    "        self.conv1 = nn.Conv2d(1, 10, kernel_size=5)\n",
    "        self.conv2 = nn.Conv2d(88, 20, kernel_size=5)\n",
    "        \n",
    "        self.incept1 = InceptionA(in_channels=10)\n",
    "        self.incept2 = InceptionA(in_channels=20)\n",
    "        \n",
    "        self.mp = nn.MaxPool2d(2)\n",
    "        self.fc = nn.Linear(1408, 10)\n",
    "        \n",
    "    def forward(self, x):\n",
    "        x = F.relu(self.mp(self.conv1(x)))\n",
    "        x = self.incept1(x)\n",
    "        x = F.relu(self.mp(self.conv2(x)))\n",
    "        x = self.incept2(x)\n",
    "        x = x.view(x.size(0), -1)\n",
    "        x = self.fc(x)\n",
    "        return x"
   ]
  },
  {
   "cell_type": "markdown",
   "metadata": {},
   "source": [
    "###  Simple CNN"
   ]
  },
  {
   "cell_type": "code",
   "execution_count": 48,
   "metadata": {},
   "outputs": [
    {
     "name": "stdout",
     "output_type": "stream",
     "text": [
      "Epoch [1/5] | Batch [64/60000] | Loss: 2.4511\n",
      "Epoch [1/5] | Batch [4160/60000] | Loss: 0.3595\n",
      "Epoch [1/5] | Batch [8256/60000] | Loss: 0.2785\n",
      "Epoch [1/5] | Batch [12352/60000] | Loss: 0.0589\n",
      "Epoch [1/5] | Batch [16448/60000] | Loss: 0.1183\n",
      "Epoch [1/5] | Batch [20544/60000] | Loss: 0.1268\n",
      "Epoch [1/5] | Batch [24640/60000] | Loss: 0.1576\n",
      "Epoch [1/5] | Batch [28736/60000] | Loss: 0.0413\n",
      "Epoch [1/5] | Batch [32832/60000] | Loss: 0.1169\n",
      "Epoch [1/5] | Batch [36928/60000] | Loss: 0.1426\n",
      "Epoch [1/5] | Batch [41024/60000] | Loss: 0.0296\n",
      "Epoch [1/5] | Batch [45120/60000] | Loss: 0.1077\n",
      "Epoch [1/5] | Batch [49216/60000] | Loss: 0.0733\n",
      "Epoch [1/5] | Batch [53312/60000] | Loss: 0.1120\n",
      "Epoch [1/5] | Batch [57408/60000] | Loss: 0.0141\n",
      "Epoch [2/5] | Batch [64/60000] | Loss: 0.0183\n",
      "Epoch [2/5] | Batch [4160/60000] | Loss: 0.0353\n",
      "Epoch [2/5] | Batch [8256/60000] | Loss: 0.0695\n",
      "Epoch [2/5] | Batch [12352/60000] | Loss: 0.0290\n",
      "Epoch [2/5] | Batch [16448/60000] | Loss: 0.0385\n",
      "Epoch [2/5] | Batch [20544/60000] | Loss: 0.0067\n",
      "Epoch [2/5] | Batch [24640/60000] | Loss: 0.0209\n",
      "Epoch [2/5] | Batch [28736/60000] | Loss: 0.0724\n",
      "Epoch [2/5] | Batch [32832/60000] | Loss: 0.0070\n",
      "Epoch [2/5] | Batch [36928/60000] | Loss: 0.0861\n",
      "Epoch [2/5] | Batch [41024/60000] | Loss: 0.0178\n",
      "Epoch [2/5] | Batch [45120/60000] | Loss: 0.0163\n",
      "Epoch [2/5] | Batch [49216/60000] | Loss: 0.0302\n",
      "Epoch [2/5] | Batch [53312/60000] | Loss: 0.0641\n",
      "Epoch [2/5] | Batch [57408/60000] | Loss: 0.0502\n",
      "Epoch [3/5] | Batch [64/60000] | Loss: 0.0247\n",
      "Epoch [3/5] | Batch [4160/60000] | Loss: 0.0161\n",
      "Epoch [3/5] | Batch [8256/60000] | Loss: 0.0212\n",
      "Epoch [3/5] | Batch [12352/60000] | Loss: 0.0058\n",
      "Epoch [3/5] | Batch [16448/60000] | Loss: 0.0973\n",
      "Epoch [3/5] | Batch [20544/60000] | Loss: 0.0019\n",
      "Epoch [3/5] | Batch [24640/60000] | Loss: 0.0074\n",
      "Epoch [3/5] | Batch [28736/60000] | Loss: 0.0164\n",
      "Epoch [3/5] | Batch [32832/60000] | Loss: 0.0551\n",
      "Epoch [3/5] | Batch [36928/60000] | Loss: 0.0041\n",
      "Epoch [3/5] | Batch [41024/60000] | Loss: 0.0054\n",
      "Epoch [3/5] | Batch [45120/60000] | Loss: 0.0544\n",
      "Epoch [3/5] | Batch [49216/60000] | Loss: 0.0649\n",
      "Epoch [3/5] | Batch [53312/60000] | Loss: 0.0629\n",
      "Epoch [3/5] | Batch [57408/60000] | Loss: 0.0012\n",
      "Epoch [4/5] | Batch [64/60000] | Loss: 0.0254\n",
      "Epoch [4/5] | Batch [4160/60000] | Loss: 0.0027\n",
      "Epoch [4/5] | Batch [8256/60000] | Loss: 0.0024\n",
      "Epoch [4/5] | Batch [12352/60000] | Loss: 0.0202\n",
      "Epoch [4/5] | Batch [16448/60000] | Loss: 0.0127\n",
      "Epoch [4/5] | Batch [20544/60000] | Loss: 0.0122\n",
      "Epoch [4/5] | Batch [24640/60000] | Loss: 0.0279\n",
      "Epoch [4/5] | Batch [28736/60000] | Loss: 0.0095\n",
      "Epoch [4/5] | Batch [32832/60000] | Loss: 0.0006\n",
      "Epoch [4/5] | Batch [36928/60000] | Loss: 0.0055\n",
      "Epoch [4/5] | Batch [41024/60000] | Loss: 0.0724\n",
      "Epoch [4/5] | Batch [45120/60000] | Loss: 0.0024\n",
      "Epoch [4/5] | Batch [49216/60000] | Loss: 0.0048\n",
      "Epoch [4/5] | Batch [53312/60000] | Loss: 0.0228\n",
      "Epoch [4/5] | Batch [57408/60000] | Loss: 0.0633\n",
      "Epoch [5/5] | Batch [64/60000] | Loss: 0.0105\n",
      "Epoch [5/5] | Batch [4160/60000] | Loss: 0.0284\n",
      "Epoch [5/5] | Batch [8256/60000] | Loss: 0.0097\n",
      "Epoch [5/5] | Batch [12352/60000] | Loss: 0.0028\n",
      "Epoch [5/5] | Batch [16448/60000] | Loss: 0.0197\n",
      "Epoch [5/5] | Batch [20544/60000] | Loss: 0.0050\n",
      "Epoch [5/5] | Batch [24640/60000] | Loss: 0.0179\n",
      "Epoch [5/5] | Batch [28736/60000] | Loss: 0.0312\n",
      "Epoch [5/5] | Batch [32832/60000] | Loss: 0.0028\n",
      "Epoch [5/5] | Batch [36928/60000] | Loss: 0.0064\n",
      "Epoch [5/5] | Batch [41024/60000] | Loss: 0.0726\n",
      "Epoch [5/5] | Batch [45120/60000] | Loss: 0.0052\n",
      "Epoch [5/5] | Batch [49216/60000] | Loss: 0.0137\n",
      "Epoch [5/5] | Batch [53312/60000] | Loss: 0.0364\n",
      "Epoch [5/5] | Batch [57408/60000] | Loss: 0.0017\n",
      "Training Time: 0m 44s\n",
      "==========================\n",
      "Test set: Average Loss: 0.0005, Accuracy: 9902/10000, 99.00%\n",
      "Testing Time: 0m 1s\n",
      "Total Time: 0m 45s\n",
      "Trained on cuda\n"
     ]
    }
   ],
   "source": [
    "model = SimpleCNN(num_classes).to(device)\n",
    "\n",
    "# Optimzer and loss\n",
    "criterion = nn.CrossEntropyLoss()\n",
    "optimizer = optim.Adam(model.parameters(), lr=lr)\n",
    "\n",
    "# Train & Run\n",
    "run(model, criterion, optimizer)"
   ]
  },
  {
   "cell_type": "markdown",
   "metadata": {},
   "source": [
    "### Simple Inception (add batch norm)"
   ]
  },
  {
   "cell_type": "code",
   "execution_count": 49,
   "metadata": {},
   "outputs": [
    {
     "name": "stdout",
     "output_type": "stream",
     "text": [
      "Epoch [1/5] | Batch [64/60000] | Loss: 2.2859\n",
      "Epoch [1/5] | Batch [4160/60000] | Loss: 0.4193\n",
      "Epoch [1/5] | Batch [8256/60000] | Loss: 0.1811\n",
      "Epoch [1/5] | Batch [12352/60000] | Loss: 0.1826\n",
      "Epoch [1/5] | Batch [16448/60000] | Loss: 0.1750\n",
      "Epoch [1/5] | Batch [20544/60000] | Loss: 0.1108\n",
      "Epoch [1/5] | Batch [24640/60000] | Loss: 0.0156\n",
      "Epoch [1/5] | Batch [28736/60000] | Loss: 0.0462\n",
      "Epoch [1/5] | Batch [32832/60000] | Loss: 0.0780\n",
      "Epoch [1/5] | Batch [36928/60000] | Loss: 0.0953\n",
      "Epoch [1/5] | Batch [41024/60000] | Loss: 0.0704\n",
      "Epoch [1/5] | Batch [45120/60000] | Loss: 0.0185\n",
      "Epoch [1/5] | Batch [49216/60000] | Loss: 0.1125\n",
      "Epoch [1/5] | Batch [53312/60000] | Loss: 0.0138\n",
      "Epoch [1/5] | Batch [57408/60000] | Loss: 0.0983\n",
      "Epoch [2/5] | Batch [64/60000] | Loss: 0.1020\n",
      "Epoch [2/5] | Batch [4160/60000] | Loss: 0.0524\n",
      "Epoch [2/5] | Batch [8256/60000] | Loss: 0.0363\n",
      "Epoch [2/5] | Batch [12352/60000] | Loss: 0.1190\n",
      "Epoch [2/5] | Batch [16448/60000] | Loss: 0.2216\n",
      "Epoch [2/5] | Batch [20544/60000] | Loss: 0.1479\n",
      "Epoch [2/5] | Batch [24640/60000] | Loss: 0.0429\n",
      "Epoch [2/5] | Batch [28736/60000] | Loss: 0.0116\n",
      "Epoch [2/5] | Batch [32832/60000] | Loss: 0.0705\n",
      "Epoch [2/5] | Batch [36928/60000] | Loss: 0.0049\n",
      "Epoch [2/5] | Batch [41024/60000] | Loss: 0.0165\n",
      "Epoch [2/5] | Batch [45120/60000] | Loss: 0.0397\n",
      "Epoch [2/5] | Batch [49216/60000] | Loss: 0.0100\n",
      "Epoch [2/5] | Batch [53312/60000] | Loss: 0.0091\n",
      "Epoch [2/5] | Batch [57408/60000] | Loss: 0.0846\n",
      "Epoch [3/5] | Batch [64/60000] | Loss: 0.0038\n",
      "Epoch [3/5] | Batch [4160/60000] | Loss: 0.0609\n",
      "Epoch [3/5] | Batch [8256/60000] | Loss: 0.0239\n",
      "Epoch [3/5] | Batch [12352/60000] | Loss: 0.0321\n",
      "Epoch [3/5] | Batch [16448/60000] | Loss: 0.0261\n",
      "Epoch [3/5] | Batch [20544/60000] | Loss: 0.1273\n",
      "Epoch [3/5] | Batch [24640/60000] | Loss: 0.0937\n",
      "Epoch [3/5] | Batch [28736/60000] | Loss: 0.0201\n",
      "Epoch [3/5] | Batch [32832/60000] | Loss: 0.0683\n",
      "Epoch [3/5] | Batch [36928/60000] | Loss: 0.0053\n",
      "Epoch [3/5] | Batch [41024/60000] | Loss: 0.0083\n",
      "Epoch [3/5] | Batch [45120/60000] | Loss: 0.0733\n",
      "Epoch [3/5] | Batch [49216/60000] | Loss: 0.0285\n",
      "Epoch [3/5] | Batch [53312/60000] | Loss: 0.0290\n",
      "Epoch [3/5] | Batch [57408/60000] | Loss: 0.0212\n",
      "Epoch [4/5] | Batch [64/60000] | Loss: 0.0148\n",
      "Epoch [4/5] | Batch [4160/60000] | Loss: 0.0230\n",
      "Epoch [4/5] | Batch [8256/60000] | Loss: 0.0028\n",
      "Epoch [4/5] | Batch [12352/60000] | Loss: 0.0216\n",
      "Epoch [4/5] | Batch [16448/60000] | Loss: 0.0346\n",
      "Epoch [4/5] | Batch [20544/60000] | Loss: 0.0501\n",
      "Epoch [4/5] | Batch [24640/60000] | Loss: 0.0118\n",
      "Epoch [4/5] | Batch [28736/60000] | Loss: 0.0549\n",
      "Epoch [4/5] | Batch [32832/60000] | Loss: 0.0104\n",
      "Epoch [4/5] | Batch [36928/60000] | Loss: 0.0064\n",
      "Epoch [4/5] | Batch [41024/60000] | Loss: 0.0625\n",
      "Epoch [4/5] | Batch [45120/60000] | Loss: 0.0361\n",
      "Epoch [4/5] | Batch [49216/60000] | Loss: 0.0145\n",
      "Epoch [4/5] | Batch [53312/60000] | Loss: 0.0996\n",
      "Epoch [4/5] | Batch [57408/60000] | Loss: 0.0075\n",
      "Epoch [5/5] | Batch [64/60000] | Loss: 0.0130\n",
      "Epoch [5/5] | Batch [4160/60000] | Loss: 0.0202\n",
      "Epoch [5/5] | Batch [8256/60000] | Loss: 0.0211\n",
      "Epoch [5/5] | Batch [12352/60000] | Loss: 0.0390\n",
      "Epoch [5/5] | Batch [16448/60000] | Loss: 0.0170\n",
      "Epoch [5/5] | Batch [20544/60000] | Loss: 0.0107\n",
      "Epoch [5/5] | Batch [24640/60000] | Loss: 0.0177\n",
      "Epoch [5/5] | Batch [28736/60000] | Loss: 0.0164\n",
      "Epoch [5/5] | Batch [32832/60000] | Loss: 0.0517\n",
      "Epoch [5/5] | Batch [36928/60000] | Loss: 0.0004\n",
      "Epoch [5/5] | Batch [41024/60000] | Loss: 0.0047\n",
      "Epoch [5/5] | Batch [45120/60000] | Loss: 0.0092\n",
      "Epoch [5/5] | Batch [49216/60000] | Loss: 0.0415\n",
      "Epoch [5/5] | Batch [53312/60000] | Loss: 0.0070\n",
      "Epoch [5/5] | Batch [57408/60000] | Loss: 0.0195\n",
      "Training Time: 1m 2s\n",
      "==========================\n",
      "Test set: Average Loss: 0.0006, Accuracy: 9885/10000, 98.00%\n",
      "Testing Time: 0m 1s\n",
      "Total Time: 1m 4s\n",
      "Trained on cuda\n"
     ]
    }
   ],
   "source": [
    "model = SimpleInception().to(device)\n",
    "\n",
    "# Optimzer and loss\n",
    "criterion = nn.CrossEntropyLoss()\n",
    "optimizer = optim.Adam(model.parameters(), lr=lr)\n",
    "\n",
    "# Train & Test\n",
    "run(model, criterion, optimizer)"
   ]
  },
  {
   "cell_type": "code",
   "execution_count": null,
   "metadata": {},
   "outputs": [],
   "source": []
  }
 ],
 "metadata": {
  "kernelspec": {
   "display_name": "Python 3",
   "language": "python",
   "name": "python3"
  },
  "language_info": {
   "codemirror_mode": {
    "name": "ipython",
    "version": 3
   },
   "file_extension": ".py",
   "mimetype": "text/x-python",
   "name": "python",
   "nbconvert_exporter": "python",
   "pygments_lexer": "ipython3",
   "version": "3.7.4"
  }
 },
 "nbformat": 4,
 "nbformat_minor": 2
}
